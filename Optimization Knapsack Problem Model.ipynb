{
 "cells": [
  {
   "cell_type": "code",
   "execution_count": 1,
   "metadata": {},
   "outputs": [],
   "source": [
    "import csv\n",
    "\n",
    "# open and read the csv file\n",
    "f = open(\"quiz4_routing.csv\")\n",
    "csvfile = csv.DictReader(f, delimiter=',')\n",
    "headers = csvfile.fieldnames\n",
    "\n",
    "table = []\n",
    "for row in csvfile:\n",
    "    table.append(row)\n",
    "    \n",
    "f.close()\n",
    "\n",
    "# define the set of routes\n",
    "Routes = headers[:]\n",
    "Routes.remove('Distribution Center')\n",
    "Routes.remove('Demand (lbs)')\n",
    "\n",
    "# read the parameters\n",
    "Demand = {}        # Demand[j] is the demand for distribution center j\n",
    "IsInRoute = {}     # IsInRoute[i,j] = 1 if route i includes distribution center j\n",
    "Length = {}        # Length[i] is the length of route i\n",
    "for row in table:\n",
    "    dc = row['Distribution Center']\n",
    "    if dc != 'n/a':\n",
    "        Demand[dc] = float(row['Demand (lbs)'])\n",
    "        for r in Routes:\n",
    "            if row[r] != '':\n",
    "                IsInRoute[(r,dc)] = int(row[r])\n",
    "    else:\n",
    "        for r in Routes:\n",
    "            Length[r] = float(row[r])\n",
    "DCs = Demand.keys()\n",
    "Capacity = 30000  # Truck capacity"
   ]
  },
  {
   "cell_type": "code",
   "execution_count": 2,
   "metadata": {},
   "outputs": [],
   "source": [
    "from docplex.mp.model import Model\n",
    "mdl = Model()"
   ]
  },
  {
   "cell_type": "code",
   "execution_count": 3,
   "metadata": {},
   "outputs": [],
   "source": [
    "# Define decision variables\n",
    "select = mdl.binary_var_dict(Routes, name='route')"
   ]
  },
  {
   "cell_type": "code",
   "execution_count": 4,
   "metadata": {},
   "outputs": [],
   "source": [
    "# Objective function\n",
    "mdl.minimize(mdl.sum(Length[r] * select[r] for r in Routes))"
   ]
  },
  {
   "cell_type": "code",
   "execution_count": 5,
   "metadata": {},
   "outputs": [],
   "source": [
    "# Constraints\n",
    "# Define the constraints\n",
    "for dc in DCs:\n",
    "    mdl.add_constraint(mdl.sum(IsInRoute.get((r, dc), 0) * select[r] for r in Routes) >= 1, f'Demand_{dc}')"
   ]
  },
  {
   "cell_type": "code",
   "execution_count": 6,
   "metadata": {},
   "outputs": [],
   "source": [
    "# Constraints: Truck capacity must not be exceeded in any route\n",
    "for r in Routes:\n",
    "    mdl.add_constraint(mdl.sum(Demand[dc] for dc in DCs if (r, dc) in IsInRoute) <= Capacity)"
   ]
  },
  {
   "cell_type": "code",
   "execution_count": 7,
   "metadata": {},
   "outputs": [
    {
     "data": {
      "text/plain": [
       "docplex.mp.SolveDetails(time=0.063,status='integer optimal solution')"
      ]
     },
     "execution_count": 7,
     "metadata": {},
     "output_type": "execute_result"
    }
   ],
   "source": [
    "# solve\n",
    "mdl.solve()\n",
    "mdl.get_solve_details()"
   ]
  },
  {
   "cell_type": "code",
   "execution_count": 8,
   "metadata": {},
   "outputs": [
    {
     "name": "stdout",
     "output_type": "stream",
     "text": [
      "objective: 7922.000\n",
      "status: OPTIMAL_SOLUTION(2)\n",
      "  route_5=1\n",
      "  route_6=1\n",
      "  route_9=1\n",
      "  route_17=1\n",
      "  route_24=1\n",
      "  route_26=1\n",
      "  route_27=1\n"
     ]
    }
   ],
   "source": [
    "mdl.print_solution()"
   ]
  },
  {
   "cell_type": "code",
   "execution_count": 9,
   "metadata": {},
   "outputs": [
    {
     "name": "stdout",
     "output_type": "stream",
     "text": [
      "Total distance: 7922.0\n",
      "Routes used:\n",
      "Route 5 with length 317.0 and centers ['5']\n",
      "Route 6 with length 1123.0 and centers ['6']\n",
      "Route 9 with length 1061.0 and centers ['9']\n",
      "Route 17 with length 1560.0 and centers ['11', '12', '15']\n",
      "Route 24 with length 1688.0 and centers ['3', '4', '7', '8']\n",
      "Route 26 with length 1022.0 and centers ['2', '13']\n",
      "Route 27 with length 1151.0 and centers ['1', '10', '14']\n"
     ]
    }
   ],
   "source": [
    "# Solve the model\n",
    "solution = mdl.solve()\n",
    "\n",
    "# Output the solution\n",
    "if solution:\n",
    "    print(\"Total distance:\", solution.objective_value)\n",
    "    print(\"Routes used:\")\n",
    "    for r in Routes:\n",
    "        if select[r].solution_value > 0.5:\n",
    "            print(f\"Route {r} with length {Length[r]} and centers {[dc for dc in DCs if (r, dc) in IsInRoute]}\")\n",
    "else:\n",
    "    print(\"No solution found\")"
   ]
  },
  {
   "cell_type": "code",
   "execution_count": null,
   "metadata": {},
   "outputs": [],
   "source": []
  }
 ],
 "metadata": {
  "kernelspec": {
   "display_name": "Python 3 (ipykernel)",
   "language": "python",
   "name": "python3"
  },
  "language_info": {
   "codemirror_mode": {
    "name": "ipython",
    "version": 3
   },
   "file_extension": ".py",
   "mimetype": "text/x-python",
   "name": "python",
   "nbconvert_exporter": "python",
   "pygments_lexer": "ipython3",
   "version": "3.8.19"
  }
 },
 "nbformat": 4,
 "nbformat_minor": 4
}
