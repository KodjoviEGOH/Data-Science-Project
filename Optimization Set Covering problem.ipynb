{
 "cells": [
  {
   "cell_type": "code",
   "execution_count": 1,
   "metadata": {},
   "outputs": [],
   "source": [
    "# Read in the csv file as a dataframe using pandas\n",
    "import pandas as pd\n",
    "df = pd.read_csv(\"quiz4_invest.csv\", index_col='Project')\n",
    "\n",
    "# read the parameters\n",
    "Capital = {}\n",
    "Sector = {}\n",
    "Risk = {}\n",
    "Duration = {}\n",
    "ExpectedReturn = {}\n",
    "\n",
    "for i in df.index:  # iterate over the row index\n",
    "    Capital[i] = float(df['Capital ($M)'][i])\n",
    "    Sector[i] = df['Sector'][i]\n",
    "    Risk[i] = df['Risk'][i]\n",
    "    Duration[i] = float(df['Duration'][i])\n",
    "    ExpectedReturn[i] = float(df['Expected return ($M)'][i])\n",
    "    \n",
    "Projects = Capital.keys()\n",
    "Budget = 100"
   ]
  },
  {
   "cell_type": "code",
   "execution_count": 2,
   "metadata": {},
   "outputs": [
    {
     "name": "stdout",
     "output_type": "stream",
     "text": [
      "            Capital ($M)       Sector    Risk  Duration  Expected return ($M)\n",
      "Project                                                                      \n",
      "Project 1             20           IT     Low         2                    34\n",
      "Project 2             15   Healthcare  Medium         4                    36\n",
      "Project 3             23   Healthcare    High         3                    50\n",
      "Project 4             10  Industrials  Medium         3                    16\n",
      "Project 5             20  Engineering  Medium         6                    54\n",
      "Project 6             12           IT    High         4                    32\n",
      "Project 7             20   Financials    High         5                    60\n",
      "Project 8             25       Energy     Low         7                    48\n",
      "Project 9             14       Energy  Medium         4                    38\n",
      "Project 10            10           IT     Low         1                    12\n"
     ]
    }
   ],
   "source": [
    "print(df)"
   ]
  },
  {
   "cell_type": "code",
   "execution_count": 3,
   "metadata": {},
   "outputs": [],
   "source": [
    "from docplex.mp.model import Model\n",
    "mdl = Model()"
   ]
  },
  {
   "cell_type": "code",
   "execution_count": 4,
   "metadata": {},
   "outputs": [],
   "source": [
    "# variables\n",
    "select = mdl.binary_var_dict(Projects, name='select')"
   ]
  },
  {
   "cell_type": "code",
   "execution_count": 5,
   "metadata": {},
   "outputs": [],
   "source": [
    "# objective\n",
    "mdl.maximize(mdl.sum(ExpectedReturn[i] * select[i] for i in Projects))"
   ]
  },
  {
   "cell_type": "code",
   "execution_count": 6,
   "metadata": {},
   "outputs": [
    {
     "data": {
      "text/plain": [
       "docplex.mp.LinearConstraint[](select_Project 1+select_Project 2+select_Project 3+select_Project 4+select_Project 6+select_Project 9+select_Project 10,GE,3)"
      ]
     },
     "execution_count": 6,
     "metadata": {},
     "output_type": "execute_result"
    }
   ],
   "source": [
    "# Constraints\n",
    "\n",
    "# No more than the budget can be invested in total\n",
    "mdl.add_constraint(mdl.sum(Capital[i] * select[i] for i in Projects) <= Budget)\n",
    "\n",
    "# At most 2 projects in IT can be selected\n",
    "mdl.add_constraint(mdl.sum(select[i] for i in Projects if Sector[i] == 'IT') <= 2)\n",
    "\n",
    "# At least one healthcare project must be selected\n",
    "mdl.add_constraint(mdl.sum(select[i] for i in Projects if Sector[i] == 'Healthcare') >= 1)\n",
    "\n",
    "# The number of projects with Low risk must be at least the number of projects with High risk\n",
    "mdl.add_constraint(mdl.sum(select[i] for i in Projects if Risk[i] == 'Low') >= mdl.sum(select[i] for i in Projects if Risk[i] == 'High'))\n",
    "\n",
    "# At least three projects with a duration of 4 years or shorter must be selected\n",
    "mdl.add_constraint(mdl.sum(select[i] for i in Projects if Duration[i] <= 4) >= 3)"
   ]
  },
  {
   "cell_type": "code",
   "execution_count": 7,
   "metadata": {},
   "outputs": [
    {
     "data": {
      "text/plain": [
       "docplex.mp.SolveDetails(time=0.016,status='integer optimal solution')"
      ]
     },
     "execution_count": 7,
     "metadata": {},
     "output_type": "execute_result"
    }
   ],
   "source": [
    "# solve\n",
    "mdl.solve()\n",
    "mdl.get_solve_details()"
   ]
  },
  {
   "cell_type": "code",
   "execution_count": 8,
   "metadata": {},
   "outputs": [
    {
     "name": "stdout",
     "output_type": "stream",
     "text": [
      "objective: 238.000\n",
      "status: OPTIMAL_SOLUTION(2)\n",
      "  \"select_Project 1\"=1\n",
      "  \"select_Project 2\"=1\n",
      "  \"select_Project 4\"=1\n",
      "  \"select_Project 5\"=1\n",
      "  \"select_Project 7\"=1\n",
      "  \"select_Project 9\"=1\n"
     ]
    }
   ],
   "source": [
    "mdl.print_solution()"
   ]
  },
  {
   "cell_type": "code",
   "execution_count": null,
   "metadata": {},
   "outputs": [],
   "source": []
  }
 ],
 "metadata": {
  "kernelspec": {
   "display_name": "Python 3 (ipykernel)",
   "language": "python",
   "name": "python3"
  },
  "language_info": {
   "codemirror_mode": {
    "name": "ipython",
    "version": 3
   },
   "file_extension": ".py",
   "mimetype": "text/x-python",
   "name": "python",
   "nbconvert_exporter": "python",
   "pygments_lexer": "ipython3",
   "version": "3.8.19"
  }
 },
 "nbformat": 4,
 "nbformat_minor": 4
}
